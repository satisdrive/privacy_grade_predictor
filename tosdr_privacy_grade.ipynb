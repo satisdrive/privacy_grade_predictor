{
  "nbformat": 4,
  "nbformat_minor": 0,
  "metadata": {
    "colab": {
      "name": "predict_privacy_grade_from_tosdr.ipynb",
      "provenance": [],
      "collapsed_sections": [],
      "toc_visible": true,
      "include_colab_link": true
    },
    "kernelspec": {
      "name": "python3",
      "display_name": "Python 3"
    },
    "accelerator": "GPU"
  },
  "cells": [
    {
      "cell_type": "markdown",
      "metadata": {
        "id": "view-in-github",
        "colab_type": "text"
      },
      "source": [
        "<a href=\"https://colab.research.google.com/github/satisdrive/privacy_grade_predictor/blob/main/tosdr_privacy_grade.ipynb\" target=\"_parent\"><img src=\"https://colab.research.google.com/assets/colab-badge.svg\" alt=\"Open In Colab\"/></a>"
      ]
    },
    {
      "cell_type": "code",
      "metadata": {
        "id": "hQ474pWuFi5e"
      },
      "source": [
        "# install ktrain\n",
        "!pip3 install ktrain\n",
        "import ktrain\n",
        "from ktrain import text"
      ],
      "execution_count": null,
      "outputs": []
    },
    {
      "cell_type": "code",
      "metadata": {
        "id": "7eJUVPW-8MZy"
      },
      "source": [
        "# fetch training and validate datasets\r\n",
        "import pandas as pd\r\n",
        "\r\n",
        "train_url='https://raw.githubusercontent.com/satisdrive/privacy_grade_predictor/main/data/train.csv'\r\n",
        "val_url='https://raw.githubusercontent.com/satisdrive/privacy_grade_predictor/main/data/val.csv'\r\n",
        "train_df = pd.read_csv(train_url)\r\n",
        "val_df = pd.read_csv(val_url)"
      ],
      "execution_count": 20,
      "outputs": []
    },
    {
      "cell_type": "code",
      "metadata": {
        "id": "0Qtfw1pgonCv"
      },
      "source": [
        "# preprocess data, define model, and train classification model\r\n",
        "import numpy as np\r\n",
        "\r\n",
        "MODEL_NAME = 'distilbert-base-uncased'\r\n",
        "t = text.Transformer(MODEL_NAME, maxlen=500, class_names=['bad','blocker','good','neutral'])\r\n",
        "trn = t.preprocess_train(np.array(train_df['text']), np.array(train_df['point']))\r\n",
        "val = t.preprocess_train(np.array(val_df['text']), np.array(val_df['point']))\r\n",
        "\r\n",
        "model = t.get_classifier()\r\n",
        "learner = ktrain.get_learner(model, train_data=trn, val_data=val, batch_size=6)\r\n",
        "learner.fit_onecycle(5e-5, 5)"
      ],
      "execution_count": null,
      "outputs": []
    },
    {
      "cell_type": "code",
      "metadata": {
        "id": "Znjs12GaJ_1t"
      },
      "source": [
        "# evaluate model\r\n",
        "learner.validate(class_names=t.get_classes())\r\n",
        "\r\n",
        "# get predictor\r\n",
        "predictor = ktrain.get_predictor(learner.model, t)"
      ],
      "execution_count": null,
      "outputs": []
    },
    {
      "cell_type": "code",
      "metadata": {
        "id": "1YzbUY0zCZfc"
      },
      "source": [
        "# fetch data to score for privacy grade\r\n",
        "import base64\r\n",
        "import requests\r\n",
        "\r\n",
        "def cleanse(line):\r\n",
        "    import re\r\n",
        "    return re.sub(\" +\",\" \",re.sub(\"[^a-zA-Z0-9 .-]\", '', re.sub(\"[\\r\\n]\", ' ', str(line).lower())))\r\n",
        "\r\n",
        "# set the url below as needed\r\n",
        "tos_url = 'https://raw.githubusercontent.com/github/site-policy/main/Policies/github-privacy-statement.md'\r\n",
        "req = requests.get(tos_url)\r\n",
        "req = cleanse(req.text)"
      ],
      "execution_count": 27,
      "outputs": []
    },
    {
      "cell_type": "code",
      "metadata": {
        "id": "KxuhBOrOEdJy"
      },
      "source": [
        "# determine privacy grade\r\n",
        "grade_count = {}\r\n",
        "lines = req.split('.')\r\n",
        "for l in lines: # todo: filter on length.\r\n",
        "  grade = predictor.predict(l)\r\n",
        "  try:\r\n",
        "    grade_count[grade] += 1\r\n",
        "  except KeyError:\r\n",
        "    grade_count[grade] = 1\r\n",
        "avg_grade = (grade_count['bad'] + grade_count['neutral']*2 + grade_count['good']*3)/len(lines)\r\n",
        "# todo: the weights for each category should be learnt from the training examples\r\n",
        "print('privacy_grade: {0}'.format('E' if avg_grade < 0.6 else ('D' if avg_grade < 1.2 else ('C' if avg_grade < 1.8 else ('B' if avg_grade < 2.4 else 'A')))))\r\n"
      ],
      "execution_count": null,
      "outputs": []
    }
  ]
}